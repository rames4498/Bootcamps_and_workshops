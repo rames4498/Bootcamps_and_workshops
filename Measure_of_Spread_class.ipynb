{
 "cells": [
  {
   "cell_type": "markdown",
   "metadata": {
    "id": "wPQ-oKmUd4VC"
   },
   "source": [
    "# Range : \n",
    "\n",
    "---\n",
    "\n",
    "Range = X(lagest) - X (lowest)"
   ]
  },
  {
   "cell_type": "code",
   "execution_count": 1,
   "metadata": {
    "colab": {
     "base_uri": "https://localhost:8080/"
    },
    "id": "zFat5FJ8d1-6",
    "outputId": "30078255-5bcd-42ac-be9c-fb43d20c5d4b"
   },
   "outputs": [
    {
     "name": "stdout",
     "output_type": "stream",
     "text": [
      "Range in Array A: [12.  10.   8.   6.5]\n",
      "Range in Array B: [ 7.   6.5  8.   7.5  4.5 11.  11.5]\n"
     ]
    }
   ],
   "source": [
    "import numpy as np\n",
    "A=np.array([[10,14,11,7,9.5,15,19],[8,9,17,14.5,12,18,15.5], [15,7.5,11.5,10,10.5,7,11],[11.5,11,9,12,14,12,7.5]])\n",
    "A\n",
    "\n",
    "B=A.T\n",
    "B\n",
    "\n",
    "a=np.ptp(B, axis=0)\n",
    "b=np.ptp(B,axis=1)\n",
    "\n",
    "print(\"Range in Array A:\",a)\n",
    "print(\"Range in Array B:\",b)"
   ]
  },
  {
   "cell_type": "markdown",
   "metadata": {
    "id": "qmZJRD0xekaC"
   },
   "source": [
    "# Quartile\n",
    "\n",
    "---\n",
    "\n"
   ]
  },
  {
   "cell_type": "code",
   "execution_count": null,
   "metadata": {
    "colab": {
     "base_uri": "https://localhost:8080/",
     "height": 85
    },
    "id": "onAG-ZzleNRO",
    "outputId": "79be6256-2bf0-4d90-e955-b9f77b17d9da"
   },
   "outputs": [
    {
     "name": "stdout",
     "output_type": "stream",
     "text": [
      "[9.5 9.  7.5 9. ]\n",
      "[8.  7.5 9.  7.  9.5 7.  7.5]\n",
      "[14.  15.5 11.  12. ]\n",
      "[11.  14.5 10.5 11.5]\n"
     ]
    }
   ],
   "source": [
    "A=np.array([[10,14,11,7,9.5,15,19],[8,9,17,14.5,12,18,15.5], [15,7.5,11.5,10,10.5,7,11],[11.5,11,9,12,14,12,7.5]])\n",
    "\n",
    "B=A.T\n",
    "\n",
    "a=np.percentile(B,27,axis=0, interpolation='lower')\n",
    "b=np.percentile(B,25,axis=1, interpolation='lower')\n",
    "c=np.percentile(B,75,axis=0, interpolation='lower')\n",
    "d=np.percentile(B,50,axis=0, interpolation='lower')\n",
    "\n",
    "print(a)\n",
    "\n",
    "print(b)\n",
    "\n",
    "print(c)\n",
    "\n",
    "print(d)"
   ]
  },
  {
   "cell_type": "markdown",
   "metadata": {
    "id": "7Do6eEXLgj2i"
   },
   "source": [
    "# inter-qurtile range\n",
    "\n",
    "---\n",
    "\n",
    "\n"
   ]
  },
  {
   "cell_type": "code",
   "execution_count": null,
   "metadata": {
    "colab": {
     "base_uri": "https://localhost:8080/",
     "height": 34
    },
    "id": "v0J_1_TVgqF_",
    "outputId": "0956b1cd-d0f9-4058-ccd3-d50a41a4caed"
   },
   "outputs": [
    {
     "name": "stdout",
     "output_type": "stream",
     "text": [
      "[4.5 6.5 3.5 3. ] [3.5 3.5 2.5 5.  2.5 8.  8. ]\n"
     ]
    }
   ],
   "source": [
    "import numpy as np\n",
    "from scipy.stats import iqr\n",
    "A=np.array([[10,14,11,7,9.5,15,19],[8,9,17,14.5,12,18,15.5], [15,7.5,11.5,10,10.5,7,11],[11.5,11,9,12,14,12,7.5]])\n",
    "\n",
    "B=A.T\n",
    "\n",
    "a=iqr(B, axis=0 , rng=(25, 75), interpolation='lower')\n",
    "b=iqr(B, axis=1 , rng=(25, 75), interpolation='lower')\n",
    "\n",
    "print(a,b)"
   ]
  },
  {
   "cell_type": "markdown",
   "metadata": {
    "id": "TeDGcMkvg5je"
   },
   "source": [
    "# Variance\n",
    "\n",
    "---\n",
    "\n"
   ]
  },
  {
   "cell_type": "code",
   "execution_count": null,
   "metadata": {
    "colab": {
     "base_uri": "https://localhost:8080/",
     "height": 51
    },
    "id": "RA52W0_HgrOz",
    "outputId": "4554289c-45b5-4a5c-d611-4092f80e7ee8"
   },
   "outputs": [
    {
     "name": "stdout",
     "output_type": "stream",
     "text": [
      "[13.98979592 12.8877551   6.12244898  3.92857143]\n",
      "[ 6.546875  5.921875  8.796875  7.546875  2.875    16.5      19.0625  ]\n"
     ]
    }
   ],
   "source": [
    "import numpy as np\n",
    "A=np.array([[10,14,11,7,9.5,15,19],[8,9,17,14.5,12,18,15.5],\n",
    "  [15,7.5,11.5,10,10.5,7,11],[11.5,11,9,12,14,12,7.5]])\n",
    "\n",
    "B=A.T\n",
    "\n",
    "a = np.var(B,axis=0)\n",
    "b = np.var(B,axis=1)\n",
    "\n",
    "print(a)\n",
    "\n",
    "print(b)"
   ]
  },
  {
   "cell_type": "markdown",
   "metadata": {
    "id": "H40m2neihCJC"
   },
   "source": [
    "# Standard deviation\n",
    "\n",
    "---\n",
    "\n"
   ]
  },
  {
   "cell_type": "code",
   "execution_count": null,
   "metadata": {
    "colab": {
     "base_uri": "https://localhost:8080/",
     "height": 68
    },
    "id": "9pETuLnmhAsc",
    "outputId": "1ff2c7d4-2723-4a54-cf94-5e5968bfcd17"
   },
   "outputs": [
    {
     "name": "stdout",
     "output_type": "stream",
     "text": [
      "[3.74029356 3.58995196 2.4743583  1.98206242]\n",
      "[2.55868619 2.43349029 2.96595263 2.74715762 1.6955825  4.0620192\n",
      " 4.3660623 ]\n"
     ]
    }
   ],
   "source": [
    "import numpy as np\n",
    "A=np.array([[10,14,11,7,9.5,15,19],[8,9,17,14.5,12,18,15.5],\n",
    "  [15,7.5,11.5,10,10.5,7,11],[11.5,11,9,12,14,12,7.5]])\n",
    "B=A.T\n",
    "a = np.std(B,axis=0)\n",
    "b = np.std(B,axis=1)\n",
    "print(a)\n",
    "\n",
    "print(b)"
   ]
  }
 ],
 "metadata": {
  "colab": {
   "name": "Measure_of_Spread.ipynb",
   "provenance": []
  },
  "kernelspec": {
   "display_name": "Python 3 (ipykernel)",
   "language": "python",
   "name": "python3"
  },
  "language_info": {
   "codemirror_mode": {
    "name": "ipython",
    "version": 3
   },
   "file_extension": ".py",
   "mimetype": "text/x-python",
   "name": "python",
   "nbconvert_exporter": "python",
   "pygments_lexer": "ipython3",
   "version": "3.10.6"
  }
 },
 "nbformat": 4,
 "nbformat_minor": 1
}
