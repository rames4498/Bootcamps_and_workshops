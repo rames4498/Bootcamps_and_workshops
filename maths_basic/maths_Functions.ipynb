{
  "nbformat": 4,
  "nbformat_minor": 0,
  "metadata": {
    "kernelspec": {
      "display_name": "Python 3",
      "language": "python",
      "name": "python3"
    },
    "language_info": {
      "codemirror_mode": {
        "name": "ipython",
        "version": 3
      },
      "file_extension": ".py",
      "mimetype": "text/x-python",
      "name": "python",
      "nbconvert_exporter": "python",
      "pygments_lexer": "ipython3",
      "version": "3.6.1"
    },
    "colab": {
      "name": "maths Functions.ipynb",
      "provenance": []
    }
  },
  "cells": [
    {
      "cell_type": "markdown",
      "metadata": {
        "id": "Xy4rWvK56DKm"
      },
      "source": [
        "**Functions**\n",
        "\n",
        "Here's an example of defining and using a Python function that meets this criteria:"
      ]
    },
    {
      "cell_type": "code",
      "metadata": {
        "id": "okd3uDDs6DKp",
        "colab": {
          "base_uri": "https://localhost:8080/",
          "height": 34
        },
        "outputId": "b6b1852e-c4cd-41dd-c7ba-8b2fa3dff23b"
      },
      "source": [
        "# define a function to return x^2 + 2\n",
        "def f(x):\n",
        "    return x**2 + 2\n",
        "\n",
        "# call the function\n",
        "f(3)"
      ],
      "execution_count": null,
      "outputs": [
        {
          "output_type": "execute_result",
          "data": {
            "text/plain": [
              "11"
            ]
          },
          "metadata": {
            "tags": []
          },
          "execution_count": 4
        }
      ]
    },
    {
      "cell_type": "markdown",
      "metadata": {
        "id": "hY2UYu1c6DKy"
      },
      "source": [
        "You can use functions in equations, just like any other term. For example, consider the following equation:\n",
        "\n",
        "\\begin{equation}y = f(x) - 1\\end{equation}\n"
      ]
    },
    {
      "cell_type": "code",
      "metadata": {
        "id": "CPoi0GrP6DK0",
        "colab": {
          "base_uri": "https://localhost:8080/",
          "height": 34
        },
        "outputId": "9e8948d7-aff8-4d36-ce75-5d135efb82b7"
      },
      "source": [
        "x = 4\n",
        "y = f(x) - 1\n",
        "print(y)"
      ],
      "execution_count": null,
      "outputs": [
        {
          "output_type": "stream",
          "text": [
            "17\n"
          ],
          "name": "stdout"
        }
      ]
    },
    {
      "cell_type": "markdown",
      "metadata": {
        "id": "6Va_PqfZ6DK5"
      },
      "source": [
        "The value returned by a function depends on the input; and you can graph this with the input for instance \"x\" on one axis and the output (***f(x)***) on the other."
      ]
    },
    {
      "cell_type": "code",
      "metadata": {
        "id": "_RdlYJ0r6DK7",
        "colab": {
          "base_uri": "https://localhost:8080/",
          "height": 279
        },
        "outputId": "7a6ee339-88f1-49fa-f234-c8a37f233b0d"
      },
      "source": [
        "%matplotlib inline\n",
        "\n",
        "import numpy as np\n",
        "from matplotlib import pyplot as plt\n",
        "\n",
        "# Create an array of x values from -100 to 100\n",
        "x = np.array(range(-100, 101))\n",
        "\n",
        "# Set up the graph\n",
        "plt.xlabel('x')\n",
        "plt.ylabel('f(x)')\n",
        "plt.grid()\n",
        "\n",
        "# Plot x against f(x)\n",
        "plt.plot(x,f(x), color='purple')\n",
        "\n",
        "plt.show()"
      ],
      "execution_count": null,
      "outputs": [
        {
          "output_type": "display_data",
          "data": {
            "image/png": "[encoded data removed]",
            "text/plain": [
              "<Figure size 432x288 with 1 Axes>"
            ]
          },
          "metadata": {
            "tags": []
          }
        }
      ]
    },
    {
      "cell_type": "markdown",
      "metadata": {
        "id": "CSQLb33m6DLA"
      },
      "source": [
        "***Bounds of a Function***: Some functions will work for any input and may return any output. For example, consider the function ***u*** defined here:\n",
        "\n",
        "\\begin{equation}u(x) = x + 1\\end{equation}\n",
        "\n",
        "So x is a member of the set of all real numbers, we can use the following expression:\n",
        "\n",
        "\\begin{equation}\\{x \\in \\rm I\\!R\\}\\end{equation}\n",
        "\n",
        "\n",
        "***Domain of a Function***\n",
        "\n",
        "We call the set of numbers for which a function can return value it's *domain*, and in this case, the domain of ***u*** is the set of all real numbers\n",
        "\n",
        "Now consider the following function ***g***:\n",
        "\n",
        "\\begin{equation}g(x) = (\\frac{12}{2x})^{2}\\end{equation}\n",
        "\n",
        "In this function x can be specifically any real number that is not 0. As indicating in the following notation:\n",
        "\n",
        "\\begin{equation}\\{x \\in \\rm I\\!R\\;\\;|\\;\\; x \\ne 0 \\}\\end{equation}\n",
        "\n",
        "\n",
        "Note that the function works for every value other than 0; so the function is defined for x = 0.000000001, and for x = -0.000000001; it only fails to return a defined value for exactly 0."
      ]
    },
    {
      "cell_type": "code",
      "metadata": {
        "id": "K64T1wC-6DLC",
        "colab": {
          "base_uri": "https://localhost:8080/",
          "height": 290
        },
        "outputId": "7dfaa51b-d386-4425-bf21-d3c9c3522535"
      },
      "source": [
        "%matplotlib inline\n",
        "\n",
        "# Define function g\n",
        "def g(x):\n",
        "    if x != 0:\n",
        "        return (12/(2*x))**2\n",
        "\n",
        "# Plot output from function g\n",
        "import numpy as np\n",
        "from matplotlib import pyplot as plt\n",
        "\n",
        "# Create an array of x values from -100 to 100\n",
        "x = range(-100, 101)\n",
        "\n",
        "# Get the corresponding y values from the function\n",
        "y = [g(a) for a in x]\n",
        "\n",
        "# Set up the graph\n",
        "plt.xlabel('x')\n",
        "plt.ylabel('g(x)')\n",
        "plt.grid()\n",
        "\n",
        "# Plot x against g(x)\n",
        "plt.plot(x,y, color='blue')\n",
        "\n",
        "# plot an empty circle to show the undefined point\n",
        "plt.plot(0,g(0.0000001), color='purple', marker='o', markerfacecolor='w', markersize=8)\n",
        "\n",
        "plt.show()"
      ],
      "execution_count": null,
      "outputs": [
        {
          "output_type": "display_data",
          "data": {
            "image/png": "[encoded data removed]",
            "text/plain": [
              "<Figure size 432x288 with 1 Axes>"
            ]
          },
          "metadata": {
            "tags": []
          }
        }
      ]
    },
    {
      "cell_type": "markdown",
      "metadata": {
        "id": "VUsPJEdw6DLI"
      },
      "source": [
        "Let's take another example.\n",
        "\n",
        "\\begin{equation}h(x) = 2\\sqrt{x}\\end{equation}\n",
        "\n",
        "The domain of this function is:\n",
        "\n",
        "\\begin{equation}h(x) = 2\\sqrt{x}, \\{x \\in \\rm I\\!R\\;\\;|\\;\\; x \\ge 0 \\}\\end{equation}\n",
        "\n",
        "*Any value for x where x is in the set of real numbers such that x is greater than or equal to 0*.\n",
        "\n",
        "Here's the Python to plot function ***h***:"
      ]
    },
    {
      "cell_type": "code",
      "metadata": {
        "id": "7Z9mN0An6DLK",
        "colab": {
          "base_uri": "https://localhost:8080/",
          "height": 279
        },
        "outputId": "e8e6758a-7d62-41bd-b027-c5cde164affe"
      },
      "source": [
        "%matplotlib inline\n",
        "\n",
        "def h(x):\n",
        "    if x >= 0:\n",
        "        import numpy as np\n",
        "        return 2 * np.sqrt(x)\n",
        "\n",
        "# Plot output from function h\n",
        "import numpy as np\n",
        "from matplotlib import pyplot as plt\n",
        "\n",
        "# Create an array of x values from -100 to 100\n",
        "x = range(-100, 101)\n",
        "\n",
        "# Get the corresponding y values from the function\n",
        "y = [h(a) for a in x]\n",
        "\n",
        "# Set up the graph\n",
        "plt.xlabel('x')\n",
        "plt.ylabel('h(x)')\n",
        "plt.grid()\n",
        "\n",
        "# Plot x against h(x)\n",
        "plt.plot(x,y, color='blue')\n",
        "\n",
        "# plot a filled circle at the end to indicate a closed interval\n",
        "plt.plot(0, h(0), color='blue', marker='o', markerfacecolor='red', markersize=8)\n",
        "\n",
        "plt.show()"
      ],
      "execution_count": null,
      "outputs": [
        {
          "output_type": "display_data",
          "data": {
            "image/png": "[encoded data removed]",
            "text/plain": [
              "<Figure size 432x288 with 1 Axes>"
            ]
          },
          "metadata": {
            "tags": []
          }
        }
      ]
    },
    {
      "cell_type": "markdown",
      "metadata": {
        "id": "G1MW4n8A6DLO"
      },
      "source": [
        "Sometimes, a function may be defined for a specific *interval*; for example, for all values between 0 and 5:\n",
        "\n",
        "\\begin{equation}j(x) = x + 2,\\;\\; x \\ge 0 \\text{ and } x \\le 5\\end{equation}\n",
        "\n",
        "In this case, the function is defined for ***x*** values between 0 and 5 *inclusive*; in other words, **0** and **5** are included in the set of defined values. This is known as a *closed* interval and can be indicated like this:\n",
        "\n",
        "\\begin{equation}\\{x \\in \\rm I\\!R\\;\\;|\\;\\; 0 \\le x \\le 5 \\}\\end{equation}\n",
        "\n",
        "It could also be indicated like this:\n",
        "\n",
        "\\begin{equation}\\{x \\in \\rm I\\!R\\;\\;|\\;\\; [0,5] \\}\\end{equation}\n",
        "\n",
        "If the condition in the function was **x > 0 and x < 5**, then the interval would be described as *open* and 0 and 5 would *not* be included in the set of defined values. This would be indicated using one of the following expressions:\n",
        "\n",
        "\\begin{equation}\\{x \\in \\rm I\\!R\\;\\;|\\;\\; 0 \\lt x \\lt 5 \\}\\end{equation}\n",
        "\\begin{equation}\\{x \\in \\rm I\\!R\\;\\;|\\;\\; (0,5) \\}\\end{equation}\n",
        "\n",
        "Here's function ***j*** in Python:"
      ]
    },
    {
      "cell_type": "code",
      "metadata": {
        "id": "mMa7kCpp6DLP",
        "colab": {
          "base_uri": "https://localhost:8080/",
          "height": 279
        },
        "outputId": "e8f851ad-6bcc-4165-b0ab-7c78b6bc265c"
      },
      "source": [
        "%matplotlib inline\n",
        "\n",
        "def j(x):\n",
        "    if x >= 0 and x <= 5:\n",
        "        return x + 2\n",
        "\n",
        "    \n",
        "# Plot output from function j\n",
        "import numpy as np\n",
        "from matplotlib import pyplot as plt\n",
        "\n",
        "# Create an array of x values from -100 to 100\n",
        "x = range(-100, 101)\n",
        "y = [j(a) for a in x]\n",
        "\n",
        "# Set up the graph\n",
        "plt.xlabel('x')\n",
        "plt.ylabel('j(x)')\n",
        "plt.grid()\n",
        "\n",
        "# Plot x against k(x)\n",
        "plt.plot(x, y, color='blue')\n",
        "\n",
        "# plot a filled circle at the ends to indicate an open interval\n",
        "plt.plot(0, j(0), color='blue', marker='o', markerfacecolor='red', markersize=8)\n",
        "plt.plot(5, j(5), color='blue', marker='o', markerfacecolor='red', markersize=8)\n",
        "\n",
        "plt.show()"
      ],
      "execution_count": null,
      "outputs": [
        {
          "output_type": "display_data",
          "data": {
            "image/png": "[encoded data removed]",
            "text/plain": [
              "<Figure size 432x288 with 1 Axes>"
            ]
          },
          "metadata": {
            "tags": []
          }
        }
      ]
    },
    {
      "cell_type": "markdown",
      "metadata": {
        "id": "sGaPe8bY6DLb"
      },
      "source": [
        "**Range of a Function**: Just as the domain of a function defines the set of values for which the function is defined, the *range* of a function defines the set of possible outputs from the function.\n",
        "\n",
        "For example, consider the following function:\n",
        "\n",
        "\\begin{equation}p(x) = x^{2} + 1\\end{equation}\n",
        "\n",
        "The domain of this function is all real numbers. And it's range is:\n",
        "\n",
        "\\begin{equation}\\{p(x) \\in \\rm I\\!R\\;\\;|\\;\\; p(x) \\ge 1 \\}\\end{equation}\n",
        "\n",
        "Let's create and plot the function for a range of ***x*** values in Python:"
      ]
    },
    {
      "cell_type": "code",
      "metadata": {
        "id": "LNGQAjbL6DLd",
        "colab": {
          "base_uri": "https://localhost:8080/",
          "height": 279
        },
        "outputId": "b8bd18c4-3907-4178-be79-43d8e799e667"
      },
      "source": [
        "%matplotlib inline\n",
        "\n",
        "# define a function to return x^2 + 1\n",
        "def f(x):\n",
        "    return x**2 + 1\n",
        "\n",
        "\n",
        "# Plot the function\n",
        "import numpy as np\n",
        "from matplotlib import pyplot as plt\n",
        "\n",
        "# Create an array of x values from -100 to 100\n",
        "x = np.array(range(-100, 101))\n",
        "\n",
        "# Set up the graph\n",
        "plt.xlabel('x')\n",
        "plt.ylabel('f(x)')\n",
        "plt.grid()\n",
        "\n",
        "# Plot x against f(x)\n",
        "plt.plot(x,f(x), color='red')\n",
        "\n",
        "plt.show()"
      ],
      "execution_count": null,
      "outputs": [
        {
          "output_type": "display_data",
          "data": {
            "image/png": "[encoded data removed]",
            "text/plain": [
              "<Figure size 432x288 with 1 Axes>"
            ]
          },
          "metadata": {
            "tags": []
          }
        }
      ]
    }
  ]
}