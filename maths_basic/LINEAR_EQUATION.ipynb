{
  "nbformat": 4,
  "nbformat_minor": 0,
  "metadata": {
    "colab": {
      "name": "LINEAR EQUATION.ipynb",
      "provenance": []
    },
    "kernelspec": {
      "name": "python3",
      "display_name": "Python 3"
    }
  },
  "cells": [
    {
      "cell_type": "code",
      "metadata": {
        "id": "iS9UxkjnoSQN",
        "colab": {
          "base_uri": "https://localhost:8080/",
          "height": 700
        },
        "outputId": "bac9405d-50d5-4639-a7fe-dfc7a577cd14"
      },
      "source": [
        "import pandas as pd\n",
        "\n",
        "# Create a dataframe with an x column containing values from -10 to 10\n",
        "df = pd.DataFrame ({'x': range(-10, 11)})\n",
        "\n",
        "# Add a y column by applying the solved equation to x\n",
        "df['y'] = (3*df['x'] - 4) / 2\n",
        "\n",
        "#Display the dataframe\n",
        "df"
      ],
      "execution_count": null,
      "outputs": [
        {
          "output_type": "execute_result",
          "data": {
            "text/html": [
              "<div>\n",
              "<style scoped>\n",
              "    .dataframe tbody tr th:only-of-type {\n",
              "        vertical-align: middle;\n",
              "    }\n",
              "\n",
              "    .dataframe tbody tr th {\n",
              "        vertical-align: top;\n",
              "    }\n",
              "\n",
              "    .dataframe thead th {\n",
              "        text-align: right;\n",
              "    }\n",
              "</style>\n",
              "<table border=\"1\" class=\"dataframe\">\n",
              "  <thead>\n",
              "    <tr style=\"text-align: right;\">\n",
              "      <th></th>\n",
              "      <th>x</th>\n",
              "      <th>y</th>\n",
              "    </tr>\n",
              "  </thead>\n",
              "  <tbody>\n",
              "    <tr>\n",
              "      <th>0</th>\n",
              "      <td>-10</td>\n",
              "      <td>-17.0</td>\n",
              "    </tr>\n",
              "    <tr>\n",
              "      <th>1</th>\n",
              "      <td>-9</td>\n",
              "      <td>-15.5</td>\n",
              "    </tr>\n",
              "    <tr>\n",
              "      <th>2</th>\n",
              "      <td>-8</td>\n",
              "      <td>-14.0</td>\n",
              "    </tr>\n",
              "    <tr>\n",
              "      <th>3</th>\n",
              "      <td>-7</td>\n",
              "      <td>-12.5</td>\n",
              "    </tr>\n",
              "    <tr>\n",
              "      <th>4</th>\n",
              "      <td>-6</td>\n",
              "      <td>-11.0</td>\n",
              "    </tr>\n",
              "    <tr>\n",
              "      <th>5</th>\n",
              "      <td>-5</td>\n",
              "      <td>-9.5</td>\n",
              "    </tr>\n",
              "    <tr>\n",
              "      <th>6</th>\n",
              "      <td>-4</td>\n",
              "      <td>-8.0</td>\n",
              "    </tr>\n",
              "    <tr>\n",
              "      <th>7</th>\n",
              "      <td>-3</td>\n",
              "      <td>-6.5</td>\n",
              "    </tr>\n",
              "    <tr>\n",
              "      <th>8</th>\n",
              "      <td>-2</td>\n",
              "      <td>-5.0</td>\n",
              "    </tr>\n",
              "    <tr>\n",
              "      <th>9</th>\n",
              "      <td>-1</td>\n",
              "      <td>-3.5</td>\n",
              "    </tr>\n",
              "    <tr>\n",
              "      <th>10</th>\n",
              "      <td>0</td>\n",
              "      <td>-2.0</td>\n",
              "    </tr>\n",
              "    <tr>\n",
              "      <th>11</th>\n",
              "      <td>1</td>\n",
              "      <td>-0.5</td>\n",
              "    </tr>\n",
              "    <tr>\n",
              "      <th>12</th>\n",
              "      <td>2</td>\n",
              "      <td>1.0</td>\n",
              "    </tr>\n",
              "    <tr>\n",
              "      <th>13</th>\n",
              "      <td>3</td>\n",
              "      <td>2.5</td>\n",
              "    </tr>\n",
              "    <tr>\n",
              "      <th>14</th>\n",
              "      <td>4</td>\n",
              "      <td>4.0</td>\n",
              "    </tr>\n",
              "    <tr>\n",
              "      <th>15</th>\n",
              "      <td>5</td>\n",
              "      <td>5.5</td>\n",
              "    </tr>\n",
              "    <tr>\n",
              "      <th>16</th>\n",
              "      <td>6</td>\n",
              "      <td>7.0</td>\n",
              "    </tr>\n",
              "    <tr>\n",
              "      <th>17</th>\n",
              "      <td>7</td>\n",
              "      <td>8.5</td>\n",
              "    </tr>\n",
              "    <tr>\n",
              "      <th>18</th>\n",
              "      <td>8</td>\n",
              "      <td>10.0</td>\n",
              "    </tr>\n",
              "    <tr>\n",
              "      <th>19</th>\n",
              "      <td>9</td>\n",
              "      <td>11.5</td>\n",
              "    </tr>\n",
              "    <tr>\n",
              "      <th>20</th>\n",
              "      <td>10</td>\n",
              "      <td>13.0</td>\n",
              "    </tr>\n",
              "  </tbody>\n",
              "</table>\n",
              "</div>"
            ],
            "text/plain": [
              "     x     y\n",
              "0  -10 -17.0\n",
              "1   -9 -15.5\n",
              "2   -8 -14.0\n",
              "3   -7 -12.5\n",
              "4   -6 -11.0\n",
              "5   -5  -9.5\n",
              "6   -4  -8.0\n",
              "7   -3  -6.5\n",
              "8   -2  -5.0\n",
              "9   -1  -3.5\n",
              "10   0  -2.0\n",
              "11   1  -0.5\n",
              "12   2   1.0\n",
              "13   3   2.5\n",
              "14   4   4.0\n",
              "15   5   5.5\n",
              "16   6   7.0\n",
              "17   7   8.5\n",
              "18   8  10.0\n",
              "19   9  11.5\n",
              "20  10  13.0"
            ]
          },
          "metadata": {
            "tags": []
          },
          "execution_count": 1
        }
      ]
    },
    {
      "cell_type": "markdown",
      "metadata": {
        "id": "vIELwrf1wdVY"
      },
      "source": [
        "Valid solutions to the linear equation above include: \n",
        "(-10, -17) (0, -2) (9, 11.5)\n",
        "\n",
        "Let's visualize this equation by matplot"
      ]
    },
    {
      "cell_type": "code",
      "metadata": {
        "id": "Dj7WfyX6wYxf",
        "colab": {
          "base_uri": "https://localhost:8080/",
          "height": 279
        },
        "outputId": "e8a3a470-e86f-42cf-d471-34d03eaf89fb"
      },
      "source": [
        "# In order to embed the return plot on the notebook \n",
        "%matplotlib inline \n",
        "\n",
        "from matplotlib import pyplot as plt\n",
        "\n",
        "plt.plot(df.x, df.y, color=\"green\", marker = \"*\")\n",
        "plt.xlabel('x')\n",
        "plt.ylabel('y')\n",
        "plt.grid()\n",
        "\n",
        "#In order to plot the x and y axis \n",
        "plt.axhline()\n",
        "plt.axvline()\n",
        "\n",
        "#Intercepts of the x and y points \n",
        "plt.annotate('x-intercept',(1.333, 0))\n",
        "plt.annotate('y-intercept',(0,-2))\n",
        "\n",
        "plt.show()"
      ],
      "execution_count": null,
      "outputs": [
        {
          "output_type": "display_data",
          "data": {
            "image/png": "[encoded data removed]",
            "text/plain": [
              "<Figure size 432x288 with 1 Axes>"
            ]
          },
          "metadata": {
            "tags": []
          }
        }
      ]
    },
    {
      "cell_type": "code",
      "metadata": {
        "id": "1Q_Zb9iCwkPa",
        "colab": {
          "base_uri": "https://localhost:8080/",
          "height": 279
        },
        "outputId": "df1de11f-5888-4339-dfe2-60c9afef805c"
      },
      "source": [
        "#SLOPE OF THE GRAPH \n",
        "\n",
        "plt.plot(df.x, df.y, color=\"grey\")\n",
        "plt.xlabel('x')\n",
        "plt.ylabel('y')\n",
        "plt.grid()\n",
        "plt.axhline()\n",
        "plt.axvline()\n",
        "\n",
        "# set the slope\n",
        "m = 1.5\n",
        "\n",
        "# get the y-intercept\n",
        "y_int = -2\n",
        "\n",
        "# label the y-intercept\n",
        "plt.annotate('y-intercept',(0,y_int))\n",
        "\n",
        "# plot the slope from the y-intercept for 1x\n",
        "mx = [0, 1]\n",
        "my = [y_int, y_int + m]\n",
        "plt.plot(mx,my, color='blue', lw=5)\n",
        "\n",
        "plt.show()"
      ],
      "execution_count": null,
      "outputs": [
        {
          "output_type": "display_data",
          "data": {
            "image/png": "[encoded data removed]",
            "text/plain": [
              "<Figure size 432x288 with 1 Axes>"
            ]
          },
          "metadata": {
            "tags": []
          }
        }
      ]
    }
  ]
}