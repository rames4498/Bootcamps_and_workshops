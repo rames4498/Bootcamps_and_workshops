{
  "nbformat": 4,
  "nbformat_minor": 0,
  "metadata": {
    "colab": {
      "name": "polynomial",
      "provenance": []
    },
    "kernelspec": {
      "name": "python3",
      "display_name": "Python 3"
    }
  },
  "cells": [
    {
      "cell_type": "markdown",
      "metadata": {
        "id": "G3MaeRvm1bDL"
      },
      "source": [
        "\n",
        "**Standard Form for Polynomials**\n",
        "\n",
        "\n",
        "For example, consider the following expression:\n",
        "\\begin{equation}3x + 4xy^{2} - 3 + x^{3} \\end{equation}\n",
        "\n",
        "To express this as a polynomial in the standard form, we need to re-order the terms like this:\n",
        "\n",
        "\\begin{equation}x^{3} + 4xy^{2} + 3x - 3 \\end{equation}\n",
        "\n",
        "We can use Python to compare the original and simplified polynomials to check them - using an arbitrary random value for x:\n",
        "\n"
      ]
    },
    {
      "cell_type": "code",
      "metadata": {
        "id": "ogZDLMDt1dZZ",
        "colab": {
          "base_uri": "https://localhost:8080/",
          "height": 34
        },
        "outputId": "93116e44-8af6-483e-fb34-b8b8e522286a"
      },
      "source": [
        "from random import randint\n",
        "x = randint(1,100)\n",
        "\n",
        "(x**3 + 2*x**3 - 3*x - x + 8 - 3) == (3*x**3 - 4*x + 5)"
      ],
      "execution_count": null,
      "outputs": [
        {
          "output_type": "execute_result",
          "data": {
            "text/plain": [
              "True"
            ]
          },
          "metadata": {
            "tags": []
          },
          "execution_count": 1
        }
      ]
    },
    {
      "cell_type": "markdown",
      "metadata": {
        "id": "D9WdthOcbxPP"
      },
      "source": [
        "**Adding, Subtracting and Multiplying the Polynomials: **\n",
        "\n",
        "**Adding**: \n",
        "\n",
        "\n",
        "\\begin{equation}3x^{3} + 2x^{3} + 3x^{2} - 4x -2x + 5 + 2 \\end{equation}\n",
        "\n",
        "This simplifies to:\n",
        "\n",
        "\\begin{equation}5x^{3} + 3x^{2} - 6x + 7 \\end{equation}\n",
        "\n",
        "\n",
        "**Subtracting**: \n",
        "\n",
        "\n",
        "\\begin{equation}2x^{2} + -x^{2} + -4x + 2x + 5 + -2 \\end{equation}\n",
        "\n",
        "Which simplifies to:\n",
        "\n",
        "\\begin{equation}x^{2} - 2x + 3 \\end{equation}\n",
        "\n",
        "\n",
        "**Multiplying**: \n",
        "\n",
        "\n",
        "\\begin{equation}(x^{4} + 2)(2x^{2} + 3x - 3) \\end{equation}\n",
        "\n",
        "This will be \n",
        "\n",
        "\\begin{equation}2x^{6} + 3x^{5} - 3x^{4} + 4x^{2} + 6x - 6 \\end{equation}\n"
      ]
    },
    {
      "cell_type": "code",
      "metadata": {
        "id": "etLy5bbRbrPE",
        "colab": {
          "base_uri": "https://localhost:8080/",
          "height": 34
        },
        "outputId": "6bd3bd8d-f729-43c8-caa6-443d6a5ece05"
      },
      "source": [
        "from random import randint\n",
        "x = randint(1,100)\n",
        "\n",
        "(4*x + 6*x**2) / (2*x) == 2 + 3*x"
      ],
      "execution_count": null,
      "outputs": [
        {
          "output_type": "execute_result",
          "data": {
            "text/plain": [
              "True"
            ]
          },
          "metadata": {
            "tags": []
          },
          "execution_count": 2
        }
      ]
    },
    {
      "cell_type": "markdown",
      "metadata": {
        "id": "4JRBc8U9e7ii"
      },
      "source": [
        "**Factors of Polynomial Expressions**\n",
        "\n",
        "\\begin{equation}-6x^{2}y^{3} \\end{equation}\n",
        "\n",
        "The factorization of the above expression will be: \n",
        "\n",
        "\\begin{equation}(2xy^{2})(-3xy) \\end{equation}"
      ]
    },
    {
      "cell_type": "code",
      "metadata": {
        "id": "Hcpas1r0cebz",
        "colab": {
          "base_uri": "https://localhost:8080/",
          "height": 34
        },
        "outputId": "2b1b851b-71bb-4f8f-bb58-2ce18233939f"
      },
      "source": [
        "from random import randint\n",
        "x = randint(1,100)\n",
        "y = randint(1,100)\n",
        "\n",
        "(2*x*y**2)*(-3*x*y) == -6*x**2*y**3"
      ],
      "execution_count": null,
      "outputs": [
        {
          "output_type": "execute_result",
          "data": {
            "text/plain": [
              "True"
            ]
          },
          "metadata": {
            "tags": []
          },
          "execution_count": 4
        }
      ]
    },
    {
      "cell_type": "markdown",
      "metadata": {
        "id": "xNnzQ3x5f51m"
      },
      "source": [
        "**Perfect Squares**\n",
        "\n",
        "\n",
        "A *perfect square* is a number multiplied by itself, for example 3 multipled by 3 is 9, so 9 is a perfect square.\n",
        "\n",
        "\\begin{equation}x^{2} + 10x + 25\\end{equation}\n",
        "\n",
        "We can use 5 as a common factor to rewrite this as:\n",
        "\n",
        "\\begin{equation}(x + 5)(x + 5)\\end{equation}\n",
        "\n",
        "\n",
        "\n",
        "\\begin{equation}(a + b)^{2} = a^{2} + b^{2}+ 2ab \\end{equation}\n"
      ]
    },
    {
      "cell_type": "code",
      "metadata": {
        "id": "5SoWZi3GfHqF",
        "colab": {
          "base_uri": "https://localhost:8080/",
          "height": 34
        },
        "outputId": "eac7935f-41c4-436a-baf9-bfba8c69087d"
      },
      "source": [
        "from random import randint\n",
        "a = randint(1,100)\n",
        "b = randint(1,100)\n",
        "\n",
        "a**2 + b**2 + (2*a*b) == (a + b)**2"
      ],
      "execution_count": null,
      "outputs": [
        {
          "output_type": "execute_result",
          "data": {
            "text/plain": [
              "True"
            ]
          },
          "metadata": {
            "tags": []
          },
          "execution_count": 5
        }
      ]
    }
  ]
}