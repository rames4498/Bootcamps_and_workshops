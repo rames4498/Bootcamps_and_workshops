{
  "nbformat": 4,
  "nbformat_minor": 0,
  "metadata": {
    "colab": {
      "name": "logs_expo_radipynb",
      "provenance": []
    },
    "kernelspec": {
      "name": "python3",
      "display_name": "Python 3"
    }
  },
  "cells": [
    {
      "cell_type": "markdown",
      "metadata": {
        "id": "_f9RQfT4Hcgp"
      },
      "source": [
        "**Exponentials:**\n",
        "\n",
        "2²=2⋅2=4\n",
        "\n",
        "\n",
        "In Python, we use the ** operator, like this example in which x is assigned the value of 5 raised to the power of 3 (in other words, 5 x 5 x 5, or 5-cubed):"
      ]
    },
    {
      "cell_type": "code",
      "metadata": {
        "id": "bogaQAFUHXvZ",
        "colab": {
          "base_uri": "https://localhost:8080/",
          "height": 34
        },
        "outputId": "cfaedf4d-0284-4e89-b202-8199bc691bbb"
      },
      "source": [
        "x = 4**7\n",
        "print(x)"
      ],
      "execution_count": null,
      "outputs": [
        {
          "output_type": "stream",
          "text": [
            "16384\n"
          ],
          "name": "stdout"
        }
      ]
    },
    {
      "cell_type": "markdown",
      "metadata": {
        "id": "iN4znl22ICTX"
      },
      "source": [
        "**Radicals (Roots):**\n",
        "\n",
        "While it's common to need to calculate the solution for a given base and exponential, sometimes you'll need to calculate one or other of the elements themselves. For example,\n",
        "\n",
        "\\begin{equation}\\sqrt{9} = 3 \\end{equation}\n",
        "\n",
        "\\begin{equation}\\sqrt[3]{64} = 4 \\end{equation}"
      ]
    },
    {
      "cell_type": "code",
      "metadata": {
        "id": "KE60RBGYHgPp",
        "colab": {
          "base_uri": "https://localhost:8080/",
          "height": 51
        },
        "outputId": "fa2eae3e-1103-4e1e-bced-7a2443454757"
      },
      "source": [
        "import math\n",
        "\n",
        "# Calculate square root of 25\n",
        "x = math.sqrt(25)\n",
        "print (x)\n",
        "\n",
        "# Calculate cube root of 64\n",
        "root = round(64 ** (1/ 3))\n",
        "print(root)"
      ],
      "execution_count": null,
      "outputs": [
        {
          "output_type": "stream",
          "text": [
            "5.0\n",
            "4\n"
          ],
          "name": "stdout"
        }
      ]
    },
    {
      "cell_type": "markdown",
      "metadata": {
        "id": "3Pmv0XoGOoDP"
      },
      "source": [
        "**Logarithms:**\n",
        "\n",
        "Logarithm gives us how many times do we need to multiply a base number by itself to get the given number\n",
        "\n",
        "\n",
        "\\begin{equation}4^{?} = 16 \\end{equation}\n",
        "\n",
        "\\begin{equation}log_{4}(16) = 2 \\end{equation}\n",
        "\n",
        "\\begin{equation}log(1000) = 3 \\end{equation}\n",
        "\n",
        "\n",
        "\\begin{equation}log_{e}(64) = ln(64) = 4.1589 \\end{equation}\n"
      ]
    },
    {
      "cell_type": "code",
      "metadata": {
        "id": "YDWk3u7iOXvk",
        "colab": {
          "base_uri": "https://localhost:8080/",
          "height": 34
        },
        "outputId": "aae9eba0-30c6-46f2-83af-26a71c9a2b42"
      },
      "source": [
        "import math\n",
        "\n",
        "# The first parameter represents result and the second parameter is the base number the log method of the math \n",
        "x = math.log(16, 4)\n",
        "print(x)"
      ],
      "execution_count": null,
      "outputs": [
        {
          "output_type": "stream",
          "text": [
            "2.0\n"
          ],
          "name": "stdout"
        }
      ]
    },
    {
      "cell_type": "code",
      "metadata": {
        "id": "lhEuSne9QkUM",
        "colab": {
          "base_uri": "https://localhost:8080/",
          "height": 51
        },
        "outputId": "95a4458f-b23f-47a9-83b9-e2ddd3b5a4e2"
      },
      "source": [
        "import math\n",
        "\n",
        "# Natural log of 29\n",
        "print (math.log(29))\n",
        "\n",
        "# Common log of 100\n",
        "print(math.log10(100))"
      ],
      "execution_count": null,
      "outputs": [
        {
          "output_type": "stream",
          "text": [
            "3.367295829986474\n",
            "2.0\n"
          ],
          "name": "stdout"
        }
      ]
    },
    {
      "cell_type": "markdown",
      "metadata": {
        "id": "SKWudrE1S8ay"
      },
      "source": [
        "**Equations with Exponentials**\n",
        "\n",
        "The step by step solution of a basic equation includes some exponentials\n",
        "\n",
        "\\begin{equation}2y = 2x^{4} ( \\frac{x^{2} + 2x^{2}}{x^{3}} ) \\end{equation}\n",
        "\n",
        "\\begin{equation}2y = 2x^{4} ( \\frac{3x^{2}}{x^{3}} ) \\end{equation}\n",
        "\n",
        "\\begin{equation}2y = 2x^{4} ( 3x^{-1} ) \\end{equation}\n",
        "\n",
        "\\begin{equation}2y = 6x^{3} \\end{equation}\n",
        "\n",
        "\\begin{equation}y = 3x^{3} \\end{equation}\n",
        "\n",
        "Let's use Python to plot the line created by this equation for a set of arbitrary x and y values:\n",
        "\n",
        "The line is curved. This is symptomatic of an exponential equation: as values on one axis increase or decrease, the values on the other axis scale *exponentially* rather than *linearly*."
      ]
    },
    {
      "cell_type": "code",
      "metadata": {
        "id": "Al_VcKTxS4Yn",
        "colab": {
          "base_uri": "https://localhost:8080/",
          "height": 653
        },
        "outputId": "4e95bea1-3f26-490c-c1f7-4511fea2d342"
      },
      "source": [
        "import pandas as pd\n",
        "\n",
        "# Create a dataframe with an x column containing values from -10 to 10\n",
        "df = pd.DataFrame ({'x': range(-10, 11)})\n",
        "\n",
        "# Add a y column by applying the slope-intercept equation to x\n",
        "df['y'] = 3*df['x']**3\n",
        "\n",
        "#Display the dataframe\n",
        "print(df)\n",
        "\n",
        "# Plot the line\n",
        "%matplotlib inline\n",
        "from matplotlib import pyplot as plt\n",
        "\n",
        "plt.plot(df.x, df.y, color=\"blue\")\n",
        "plt.xlabel('x')\n",
        "plt.ylabel('y')\n",
        "plt.grid()\n",
        "plt.axhline()\n",
        "plt.axvline()\n",
        "plt.show()"
      ],
      "execution_count": null,
      "outputs": [
        {
          "output_type": "stream",
          "text": [
            "     x     y\n",
            "0  -10 -3000\n",
            "1   -9 -2187\n",
            "2   -8 -1536\n",
            "3   -7 -1029\n",
            "4   -6  -648\n",
            "5   -5  -375\n",
            "6   -4  -192\n",
            "7   -3   -81\n",
            "8   -2   -24\n",
            "9   -1    -3\n",
            "10   0     0\n",
            "11   1     3\n",
            "12   2    24\n",
            "13   3    81\n",
            "14   4   192\n",
            "15   5   375\n",
            "16   6   648\n",
            "17   7  1029\n",
            "18   8  1536\n",
            "19   9  2187\n",
            "20  10  3000\n"
          ],
          "name": "stdout"
        },
        {
          "output_type": "display_data",
          "data": {
            "image/png": "[encoded data removed]",
            "text/plain": [
              "<Figure size 432x288 with 1 Axes>"
            ]
          },
          "metadata": {
            "tags": []
          }
        }
      ]
    },
    {
      "cell_type": "markdown",
      "metadata": {
        "id": "KuDD1y7oe_uO"
      },
      "source": [
        "Let's look at an example in which x is the exponential, not the base:\n",
        "\n",
        "\\begin{equation}y = 2^{x} \\end{equation}"
      ]
    },
    {
      "cell_type": "code",
      "metadata": {
        "id": "x3EaMhFZaYIv",
        "colab": {
          "base_uri": "https://localhost:8080/",
          "height": 653
        },
        "outputId": "e2003964-d303-48bf-9556-47a6975aee8e"
      },
      "source": [
        "import pandas as pd\n",
        "\n",
        "# Create a dataframe with an x column containing values from -10 to 10\n",
        "df = pd.DataFrame ({'x': range(-10, 11)})\n",
        "\n",
        "# Add a y column by applying the slope-intercept equation to x\n",
        "df['y'] = 2.0**df['x']\n",
        "\n",
        "#Display the dataframe\n",
        "print(df)\n",
        "\n",
        "# Plot the line\n",
        "%matplotlib inline\n",
        "from matplotlib import pyplot as plt\n",
        "\n",
        "plt.plot(df.x, df.y, color=\"green\")\n",
        "plt.xlabel('x')\n",
        "plt.ylabel('y')\n",
        "plt.grid()\n",
        "plt.axhline()\n",
        "plt.axvline()\n",
        "plt.show()"
      ],
      "execution_count": null,
      "outputs": [
        {
          "output_type": "stream",
          "text": [
            "     x            y\n",
            "0  -10     0.000977\n",
            "1   -9     0.001953\n",
            "2   -8     0.003906\n",
            "3   -7     0.007812\n",
            "4   -6     0.015625\n",
            "5   -5     0.031250\n",
            "6   -4     0.062500\n",
            "7   -3     0.125000\n",
            "8   -2     0.250000\n",
            "9   -1     0.500000\n",
            "10   0     1.000000\n",
            "11   1     2.000000\n",
            "12   2     4.000000\n",
            "13   3     8.000000\n",
            "14   4    16.000000\n",
            "15   5    32.000000\n",
            "16   6    64.000000\n",
            "17   7   128.000000\n",
            "18   8   256.000000\n",
            "19   9   512.000000\n",
            "20  10  1024.000000\n"
          ],
          "name": "stdout"
        },
        {
          "output_type": "display_data",
          "data": {
            "image/png": "[encoded data removed]",
            "text/plain": [
              "<Figure size 432x288 with 1 Axes>"
            ]
          },
          "metadata": {
            "tags": []
          }
        }
      ]
    },
    {
      "cell_type": "code",
      "metadata": {
        "id": "geb7sXcAwUkf"
      },
      "source": [],
      "execution_count": null,
      "outputs": []
    }
  ]
}