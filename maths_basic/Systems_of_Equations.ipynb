{
  "nbformat": 4,
  "nbformat_minor": 0,
  "metadata": {
    "kernelspec": {
      "display_name": "Python 3.6",
      "language": "python",
      "name": "python36"
    },
    "language_info": {
      "codemirror_mode": {
        "name": "ipython",
        "version": 3
      },
      "file_extension": ".py",
      "mimetype": "text/x-python",
      "name": "python",
      "nbconvert_exporter": "python",
      "pygments_lexer": "ipython3",
      "version": "3.6.3"
    },
    "colab": {
      "name": "Systems of Equations.ipynb",
      "provenance": []
    }
  },
  "cells": [
    {
      "cell_type": "markdown",
      "metadata": {
        "id": "zGWQ_-2g-gA_"
      },
      "source": [
        "\\begin{equation}x + y = 16 \\end{equation}\n",
        "\\begin{equation}10x + 25y = 250 \\end{equation}\n",
        "\n",
        "Taken together, these equations form a *system of equations* that will enable us to determine how many of each chip denomination we have."
      ]
    },
    {
      "cell_type": "code",
      "metadata": {
        "id": "QiN4WPwX-gBE",
        "colab": {
          "base_uri": "https://localhost:8080/",
          "height": 279
        },
        "outputId": "9f3dc6de-dab3-4d7a-925b-ea6c247087ea"
      },
      "source": [
        "%matplotlib inline\n",
        "from matplotlib import pyplot as plt\n",
        "\n",
        "# Get the extremes for number of chips\n",
        "chipsAll10s = [16, 0]\n",
        "chipsAll25s = [0, 16]\n",
        "\n",
        "# Get the extremes for values\n",
        "valueAll10s = [25,0]\n",
        "valueAll25s = [0,10]\n",
        "\n",
        "# Plot the lines\n",
        "plt.plot(chipsAll10s,chipsAll25s, color='blue')\n",
        "plt.plot(valueAll10s, valueAll25s, color=\"orange\")\n",
        "plt.xlabel('x (£10 chips)')\n",
        "plt.ylabel('y (£25 chips)')\n",
        "plt.grid()\n",
        "\n",
        "plt.show()"
      ],
      "execution_count": null,
      "outputs": [
        {
          "output_type": "display_data",
          "data": {
            "image/png": "[encoded data removed]",
            "text/plain": [
              "<Figure size 432x288 with 1 Axes>"
            ]
          },
          "metadata": {
            "tags": []
          }
        }
      ]
    },
    {
      "cell_type": "code",
      "metadata": {
        "id": "5A1H3V_r-gBN",
        "colab": {
          "base_uri": "https://localhost:8080/",
          "height": 34
        },
        "outputId": "39468f61-c111-4420-b5f4-7ed72ece3f98"
      },
      "source": [
        "x = 10\n",
        "y = 6\n",
        "print ((x + y == 16) & ((10*x) + (25*y) == 250))"
      ],
      "execution_count": null,
      "outputs": [
        {
          "output_type": "stream",
          "text": [
            "True\n"
          ],
          "name": "stdout"
        }
      ]
    }
  ]
}