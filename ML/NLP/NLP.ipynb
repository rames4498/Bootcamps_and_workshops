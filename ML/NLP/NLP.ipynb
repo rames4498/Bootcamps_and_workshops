{
 "cells": [
  {
   "cell_type": "code",
   "execution_count": null,
   "id": "f63c8018",
   "metadata": {},
   "outputs": [],
   "source": [
    "#NLTK \n",
    "# Natural language toolkit"
   ]
  },
  {
   "cell_type": "code",
   "execution_count": null,
   "id": "0d01ddf0",
   "metadata": {},
   "outputs": [],
   "source": [
    "# Tokenizing\n",
    "# sentence\n",
    "# word"
   ]
  },
  {
   "cell_type": "code",
   "execution_count": 6,
   "id": "0d423f64",
   "metadata": {},
   "outputs": [
    {
     "name": "stderr",
     "output_type": "stream",
     "text": [
      "[nltk_data] Downloading package punkt to C:\\Users\\Digital\n",
      "[nltk_data]     Suppliers\\AppData\\Roaming\\nltk_data...\n",
      "[nltk_data]   Unzipping tokenizers\\punkt.zip.\n"
     ]
    },
    {
     "data": {
      "text/plain": [
       "True"
      ]
     },
     "execution_count": 6,
     "metadata": {},
     "output_type": "execute_result"
    }
   ],
   "source": [
    "import nltk\n",
    "nltk.download('punkt')"
   ]
  },
  {
   "cell_type": "code",
   "execution_count": null,
   "id": "5ad28b8f",
   "metadata": {},
   "outputs": [],
   "source": [
    "#  \"This is Sherlock's case, and he is accompanied by Dr.Watson\""
   ]
  },
  {
   "cell_type": "code",
   "execution_count": 7,
   "id": "63775a81",
   "metadata": {},
   "outputs": [],
   "source": [
    "from nltk.tokenize import sent_tokenize, word_tokenize"
   ]
  },
  {
   "cell_type": "code",
   "execution_count": 11,
   "id": "ab6b3a7e",
   "metadata": {},
   "outputs": [],
   "source": [
    "example_string = \"\"\"Wedlock suits you,” he remarked. “I think, John Watson's, that you have put on seven and a half pounds since I saw you.”\n",
    "“Seven!” I answered.“Indeed, I should have thought a little more. Just a trifle more, I fancy, Watson. And in practice again, I observe. You did not tell me that you intended to go into harness.”“Then, how do you know?”\n",
    "“I see it, I deduce it. How do I know that you have been getting yourself very wet lately, and that you have a most clumsy and careless servant girl?”\"\"\""
   ]
  },
  {
   "cell_type": "code",
   "execution_count": 12,
   "id": "fbb77df5",
   "metadata": {},
   "outputs": [
    {
     "data": {
      "text/plain": [
       "['Wedlock suits you,” he remarked.',\n",
       " \"“I think, John Watson's, that you have put on seven and a half pounds since I saw you.”\\n“Seven!” I answered.“Indeed, I should have thought a little more.\",\n",
       " 'Just a trifle more, I fancy, Watson.',\n",
       " 'And in practice again, I observe.',\n",
       " 'You did not tell me that you intended to go into harness.”“Then, how do you know?”\\n“I see it, I deduce it.',\n",
       " 'How do I know that you have been getting yourself very wet lately, and that you have a most clumsy and careless servant girl?”']"
      ]
     },
     "execution_count": 12,
     "metadata": {},
     "output_type": "execute_result"
    }
   ],
   "source": [
    "sent_tokenize(example_string)"
   ]
  },
  {
   "cell_type": "code",
   "execution_count": 13,
   "id": "28db3760",
   "metadata": {},
   "outputs": [
    {
     "data": {
      "text/plain": [
       "['Wedlock',\n",
       " 'suits',\n",
       " 'you',\n",
       " ',',\n",
       " '”',\n",
       " 'he',\n",
       " 'remarked',\n",
       " '.',\n",
       " '“',\n",
       " 'I',\n",
       " 'think',\n",
       " ',',\n",
       " 'John',\n",
       " 'Watson',\n",
       " \"'s\",\n",
       " ',',\n",
       " 'that',\n",
       " 'you',\n",
       " 'have',\n",
       " 'put',\n",
       " 'on',\n",
       " 'seven',\n",
       " 'and',\n",
       " 'a',\n",
       " 'half',\n",
       " 'pounds',\n",
       " 'since',\n",
       " 'I',\n",
       " 'saw',\n",
       " 'you.',\n",
       " '”',\n",
       " '“',\n",
       " 'Seven',\n",
       " '!',\n",
       " '”',\n",
       " 'I',\n",
       " 'answered.',\n",
       " '“',\n",
       " 'Indeed',\n",
       " ',',\n",
       " 'I',\n",
       " 'should',\n",
       " 'have',\n",
       " 'thought',\n",
       " 'a',\n",
       " 'little',\n",
       " 'more',\n",
       " '.',\n",
       " 'Just',\n",
       " 'a',\n",
       " 'trifle',\n",
       " 'more',\n",
       " ',',\n",
       " 'I',\n",
       " 'fancy',\n",
       " ',',\n",
       " 'Watson',\n",
       " '.',\n",
       " 'And',\n",
       " 'in',\n",
       " 'practice',\n",
       " 'again',\n",
       " ',',\n",
       " 'I',\n",
       " 'observe',\n",
       " '.',\n",
       " 'You',\n",
       " 'did',\n",
       " 'not',\n",
       " 'tell',\n",
       " 'me',\n",
       " 'that',\n",
       " 'you',\n",
       " 'intended',\n",
       " 'to',\n",
       " 'go',\n",
       " 'into',\n",
       " 'harness.',\n",
       " '”',\n",
       " '“',\n",
       " 'Then',\n",
       " ',',\n",
       " 'how',\n",
       " 'do',\n",
       " 'you',\n",
       " 'know',\n",
       " '?',\n",
       " '”',\n",
       " '“',\n",
       " 'I',\n",
       " 'see',\n",
       " 'it',\n",
       " ',',\n",
       " 'I',\n",
       " 'deduce',\n",
       " 'it',\n",
       " '.',\n",
       " 'How',\n",
       " 'do',\n",
       " 'I',\n",
       " 'know',\n",
       " 'that',\n",
       " 'you',\n",
       " 'have',\n",
       " 'been',\n",
       " 'getting',\n",
       " 'yourself',\n",
       " 'very',\n",
       " 'wet',\n",
       " 'lately',\n",
       " ',',\n",
       " 'and',\n",
       " 'that',\n",
       " 'you',\n",
       " 'have',\n",
       " 'a',\n",
       " 'most',\n",
       " 'clumsy',\n",
       " 'and',\n",
       " 'careless',\n",
       " 'servant',\n",
       " 'girl',\n",
       " '?',\n",
       " '”']"
      ]
     },
     "execution_count": 13,
     "metadata": {},
     "output_type": "execute_result"
    }
   ],
   "source": [
    "word_tokenize(example_string)"
   ]
  },
  {
   "cell_type": "code",
   "execution_count": null,
   "id": "bc777a63",
   "metadata": {},
   "outputs": [],
   "source": [
    "# stop words \n",
    "\n",
    "# filtering the stop words \n",
    "\n",
    "#  is, in, an, "
   ]
  },
  {
   "cell_type": "code",
   "execution_count": 24,
   "id": "6af7c553",
   "metadata": {},
   "outputs": [
    {
     "name": "stderr",
     "output_type": "stream",
     "text": [
      "[nltk_data] Downloading package stopwords to C:\\Users\\Digital\n",
      "[nltk_data]     Suppliers\\AppData\\Roaming\\nltk_data...\n",
      "[nltk_data]   Package stopwords is already up-to-date!\n"
     ]
    }
   ],
   "source": [
    "nltk.download(\"stopwords\")\n",
    "from nltk.corpus import stopwords\n",
    "from nltk.tokenize import word_tokenize"
   ]
  },
  {
   "cell_type": "code",
   "execution_count": 34,
   "id": "4950bfed",
   "metadata": {},
   "outputs": [],
   "source": [
    "st = \"\"\"I carefully examined the writing, and the paper upon which it was written.\n",
    "\n",
    "“The man who wrote it was presumably well to do,” I remarked, endeavouring to imitate my companion’s processes. “Such paper could not be bought under half a crown a packet. It is peculiarly strong and stiff.”\n",
    "\n",
    "“Peculiar—that is the very word,” said Holmes. “It is not an English paper at all. Hold it up to the light.”\n",
    "\n",
    "I did so, and saw a large “E” with a small “g,” a “P,” and a large “G” with a small “t” woven into the texture of the paper.\n",
    "\n",
    "“What do you make of that?” asked Holmes.\n",
    "\n",
    "“The name of the maker, no doubt; or his monogram, rather.”\"\"\""
   ]
  },
  {
   "cell_type": "code",
   "execution_count": 35,
   "id": "b32301da",
   "metadata": {},
   "outputs": [
    {
     "data": {
      "text/plain": [
       "['I',\n",
       " 'carefully',\n",
       " 'examined',\n",
       " 'the',\n",
       " 'writing',\n",
       " ',',\n",
       " 'and',\n",
       " 'the',\n",
       " 'paper',\n",
       " 'upon',\n",
       " 'which',\n",
       " 'it',\n",
       " 'was',\n",
       " 'written',\n",
       " '.',\n",
       " '“',\n",
       " 'The',\n",
       " 'man',\n",
       " 'who',\n",
       " 'wrote',\n",
       " 'it',\n",
       " 'was',\n",
       " 'presumably',\n",
       " 'well',\n",
       " 'to',\n",
       " 'do',\n",
       " ',',\n",
       " '”',\n",
       " 'I',\n",
       " 'remarked',\n",
       " ',',\n",
       " 'endeavouring',\n",
       " 'to',\n",
       " 'imitate',\n",
       " 'my',\n",
       " 'companion',\n",
       " '’',\n",
       " 's',\n",
       " 'processes',\n",
       " '.',\n",
       " '“',\n",
       " 'Such',\n",
       " 'paper',\n",
       " 'could',\n",
       " 'not',\n",
       " 'be',\n",
       " 'bought',\n",
       " 'under',\n",
       " 'half',\n",
       " 'a',\n",
       " 'crown',\n",
       " 'a',\n",
       " 'packet',\n",
       " '.',\n",
       " 'It',\n",
       " 'is',\n",
       " 'peculiarly',\n",
       " 'strong',\n",
       " 'and',\n",
       " 'stiff.',\n",
       " '”',\n",
       " '“',\n",
       " 'Peculiar—that',\n",
       " 'is',\n",
       " 'the',\n",
       " 'very',\n",
       " 'word',\n",
       " ',',\n",
       " '”',\n",
       " 'said',\n",
       " 'Holmes',\n",
       " '.',\n",
       " '“',\n",
       " 'It',\n",
       " 'is',\n",
       " 'not',\n",
       " 'an',\n",
       " 'English',\n",
       " 'paper',\n",
       " 'at',\n",
       " 'all',\n",
       " '.',\n",
       " 'Hold',\n",
       " 'it',\n",
       " 'up',\n",
       " 'to',\n",
       " 'the',\n",
       " 'light.',\n",
       " '”',\n",
       " 'I',\n",
       " 'did',\n",
       " 'so',\n",
       " ',',\n",
       " 'and',\n",
       " 'saw',\n",
       " 'a',\n",
       " 'large',\n",
       " '“',\n",
       " 'E',\n",
       " '”',\n",
       " 'with',\n",
       " 'a',\n",
       " 'small',\n",
       " '“',\n",
       " 'g',\n",
       " ',',\n",
       " '”',\n",
       " 'a',\n",
       " '“',\n",
       " 'P',\n",
       " ',',\n",
       " '”',\n",
       " 'and',\n",
       " 'a',\n",
       " 'large',\n",
       " '“',\n",
       " 'G',\n",
       " '”',\n",
       " 'with',\n",
       " 'a',\n",
       " 'small',\n",
       " '“',\n",
       " 't',\n",
       " '”',\n",
       " 'woven',\n",
       " 'into',\n",
       " 'the',\n",
       " 'texture',\n",
       " 'of',\n",
       " 'the',\n",
       " 'paper',\n",
       " '.',\n",
       " '“',\n",
       " 'What',\n",
       " 'do',\n",
       " 'you',\n",
       " 'make',\n",
       " 'of',\n",
       " 'that',\n",
       " '?',\n",
       " '”',\n",
       " 'asked',\n",
       " 'Holmes',\n",
       " '.',\n",
       " '“',\n",
       " 'The',\n",
       " 'name',\n",
       " 'of',\n",
       " 'the',\n",
       " 'maker',\n",
       " ',',\n",
       " 'no',\n",
       " 'doubt',\n",
       " ';',\n",
       " 'or',\n",
       " 'his',\n",
       " 'monogram',\n",
       " ',',\n",
       " 'rather',\n",
       " '.',\n",
       " '”']"
      ]
     },
     "execution_count": 35,
     "metadata": {},
     "output_type": "execute_result"
    }
   ],
   "source": [
    "words  = word_tokenize(st)\n",
    "words"
   ]
  },
  {
   "cell_type": "code",
   "execution_count": 30,
   "id": "eb7e91d3",
   "metadata": {},
   "outputs": [
    {
     "data": {
      "text/plain": [
       "{'a',\n",
       " 'about',\n",
       " 'above',\n",
       " 'after',\n",
       " 'again',\n",
       " 'against',\n",
       " 'ain',\n",
       " 'all',\n",
       " 'am',\n",
       " 'an',\n",
       " 'and',\n",
       " 'any',\n",
       " 'are',\n",
       " 'aren',\n",
       " \"aren't\",\n",
       " 'as',\n",
       " 'at',\n",
       " 'be',\n",
       " 'because',\n",
       " 'been',\n",
       " 'before',\n",
       " 'being',\n",
       " 'below',\n",
       " 'between',\n",
       " 'both',\n",
       " 'but',\n",
       " 'by',\n",
       " 'can',\n",
       " 'couldn',\n",
       " \"couldn't\",\n",
       " 'd',\n",
       " 'did',\n",
       " 'didn',\n",
       " \"didn't\",\n",
       " 'do',\n",
       " 'does',\n",
       " 'doesn',\n",
       " \"doesn't\",\n",
       " 'doing',\n",
       " 'don',\n",
       " \"don't\",\n",
       " 'down',\n",
       " 'during',\n",
       " 'each',\n",
       " 'few',\n",
       " 'for',\n",
       " 'from',\n",
       " 'further',\n",
       " 'had',\n",
       " 'hadn',\n",
       " \"hadn't\",\n",
       " 'has',\n",
       " 'hasn',\n",
       " \"hasn't\",\n",
       " 'have',\n",
       " 'haven',\n",
       " \"haven't\",\n",
       " 'having',\n",
       " 'he',\n",
       " 'her',\n",
       " 'here',\n",
       " 'hers',\n",
       " 'herself',\n",
       " 'him',\n",
       " 'himself',\n",
       " 'his',\n",
       " 'how',\n",
       " 'i',\n",
       " 'if',\n",
       " 'in',\n",
       " 'into',\n",
       " 'is',\n",
       " 'isn',\n",
       " \"isn't\",\n",
       " 'it',\n",
       " \"it's\",\n",
       " 'its',\n",
       " 'itself',\n",
       " 'just',\n",
       " 'll',\n",
       " 'm',\n",
       " 'ma',\n",
       " 'me',\n",
       " 'mightn',\n",
       " \"mightn't\",\n",
       " 'more',\n",
       " 'most',\n",
       " 'mustn',\n",
       " \"mustn't\",\n",
       " 'my',\n",
       " 'myself',\n",
       " 'needn',\n",
       " \"needn't\",\n",
       " 'no',\n",
       " 'nor',\n",
       " 'not',\n",
       " 'now',\n",
       " 'o',\n",
       " 'of',\n",
       " 'off',\n",
       " 'on',\n",
       " 'once',\n",
       " 'only',\n",
       " 'or',\n",
       " 'other',\n",
       " 'our',\n",
       " 'ours',\n",
       " 'ourselves',\n",
       " 'out',\n",
       " 'over',\n",
       " 'own',\n",
       " 're',\n",
       " 's',\n",
       " 'same',\n",
       " 'shan',\n",
       " \"shan't\",\n",
       " 'she',\n",
       " \"she's\",\n",
       " 'should',\n",
       " \"should've\",\n",
       " 'shouldn',\n",
       " \"shouldn't\",\n",
       " 'so',\n",
       " 'some',\n",
       " 'such',\n",
       " 't',\n",
       " 'than',\n",
       " 'that',\n",
       " \"that'll\",\n",
       " 'the',\n",
       " 'their',\n",
       " 'theirs',\n",
       " 'them',\n",
       " 'themselves',\n",
       " 'then',\n",
       " 'there',\n",
       " 'these',\n",
       " 'they',\n",
       " 'this',\n",
       " 'those',\n",
       " 'through',\n",
       " 'to',\n",
       " 'too',\n",
       " 'under',\n",
       " 'until',\n",
       " 'up',\n",
       " 've',\n",
       " 'very',\n",
       " 'was',\n",
       " 'wasn',\n",
       " \"wasn't\",\n",
       " 'we',\n",
       " 'were',\n",
       " 'weren',\n",
       " \"weren't\",\n",
       " 'what',\n",
       " 'when',\n",
       " 'where',\n",
       " 'which',\n",
       " 'while',\n",
       " 'who',\n",
       " 'whom',\n",
       " 'why',\n",
       " 'will',\n",
       " 'with',\n",
       " 'won',\n",
       " \"won't\",\n",
       " 'wouldn',\n",
       " \"wouldn't\",\n",
       " 'y',\n",
       " 'you',\n",
       " \"you'd\",\n",
       " \"you'll\",\n",
       " \"you're\",\n",
       " \"you've\",\n",
       " 'your',\n",
       " 'yours',\n",
       " 'yourself',\n",
       " 'yourselves'}"
      ]
     },
     "execution_count": 30,
     "metadata": {},
     "output_type": "execute_result"
    }
   ],
   "source": [
    "stop_words  =  set(stopwords.words('english'))\n",
    "stop_words   # stopwords existed in english"
   ]
  },
  {
   "cell_type": "code",
   "execution_count": 38,
   "id": "b3841f66",
   "metadata": {},
   "outputs": [],
   "source": [
    "stop_wordsli = []\n",
    "filtered_li  = []\n",
    "for word in words:\n",
    "    if word.casefold() in stop_words:\n",
    "        stop_wordsli.append(word)\n",
    "    else:\n",
    "        filtered_li.append(word)\n",
    "        \n",
    "        "
   ]
  },
  {
   "cell_type": "code",
   "execution_count": 39,
   "id": "644b2c34",
   "metadata": {},
   "outputs": [
    {
     "data": {
      "text/plain": [
       "['I',\n",
       " 'the',\n",
       " 'and',\n",
       " 'the',\n",
       " 'which',\n",
       " 'it',\n",
       " 'was',\n",
       " 'The',\n",
       " 'who',\n",
       " 'it',\n",
       " 'was',\n",
       " 'to',\n",
       " 'do',\n",
       " 'I',\n",
       " 'to',\n",
       " 'my',\n",
       " 's',\n",
       " 'Such',\n",
       " 'not',\n",
       " 'be',\n",
       " 'under',\n",
       " 'a',\n",
       " 'a',\n",
       " 'It',\n",
       " 'is',\n",
       " 'and',\n",
       " 'is',\n",
       " 'the',\n",
       " 'very',\n",
       " 'It',\n",
       " 'is',\n",
       " 'not',\n",
       " 'an',\n",
       " 'at',\n",
       " 'all',\n",
       " 'it',\n",
       " 'up',\n",
       " 'to',\n",
       " 'the',\n",
       " 'I',\n",
       " 'did',\n",
       " 'so',\n",
       " 'and',\n",
       " 'a',\n",
       " 'with',\n",
       " 'a',\n",
       " 'a',\n",
       " 'and',\n",
       " 'a',\n",
       " 'with',\n",
       " 'a',\n",
       " 't',\n",
       " 'into',\n",
       " 'the',\n",
       " 'of',\n",
       " 'the',\n",
       " 'What',\n",
       " 'do',\n",
       " 'you',\n",
       " 'of',\n",
       " 'that',\n",
       " 'The',\n",
       " 'of',\n",
       " 'the',\n",
       " 'no',\n",
       " 'or',\n",
       " 'his']"
      ]
     },
     "execution_count": 39,
     "metadata": {},
     "output_type": "execute_result"
    }
   ],
   "source": [
    "stop_wordsli"
   ]
  },
  {
   "cell_type": "code",
   "execution_count": 40,
   "id": "a5fd0217",
   "metadata": {},
   "outputs": [
    {
     "data": {
      "text/plain": [
       "['carefully',\n",
       " 'examined',\n",
       " 'writing',\n",
       " ',',\n",
       " 'paper',\n",
       " 'upon',\n",
       " 'written',\n",
       " '.',\n",
       " '“',\n",
       " 'man',\n",
       " 'wrote',\n",
       " 'presumably',\n",
       " 'well',\n",
       " ',',\n",
       " '”',\n",
       " 'remarked',\n",
       " ',',\n",
       " 'endeavouring',\n",
       " 'imitate',\n",
       " 'companion',\n",
       " '’',\n",
       " 'processes',\n",
       " '.',\n",
       " '“',\n",
       " 'paper',\n",
       " 'could',\n",
       " 'bought',\n",
       " 'half',\n",
       " 'crown',\n",
       " 'packet',\n",
       " '.',\n",
       " 'peculiarly',\n",
       " 'strong',\n",
       " 'stiff.',\n",
       " '”',\n",
       " '“',\n",
       " 'Peculiar—that',\n",
       " 'word',\n",
       " ',',\n",
       " '”',\n",
       " 'said',\n",
       " 'Holmes',\n",
       " '.',\n",
       " '“',\n",
       " 'English',\n",
       " 'paper',\n",
       " '.',\n",
       " 'Hold',\n",
       " 'light.',\n",
       " '”',\n",
       " ',',\n",
       " 'saw',\n",
       " 'large',\n",
       " '“',\n",
       " 'E',\n",
       " '”',\n",
       " 'small',\n",
       " '“',\n",
       " 'g',\n",
       " ',',\n",
       " '”',\n",
       " '“',\n",
       " 'P',\n",
       " ',',\n",
       " '”',\n",
       " 'large',\n",
       " '“',\n",
       " 'G',\n",
       " '”',\n",
       " 'small',\n",
       " '“',\n",
       " '”',\n",
       " 'woven',\n",
       " 'texture',\n",
       " 'paper',\n",
       " '.',\n",
       " '“',\n",
       " 'make',\n",
       " '?',\n",
       " '”',\n",
       " 'asked',\n",
       " 'Holmes',\n",
       " '.',\n",
       " '“',\n",
       " 'name',\n",
       " 'maker',\n",
       " ',',\n",
       " 'doubt',\n",
       " ';',\n",
       " 'monogram',\n",
       " ',',\n",
       " 'rather',\n",
       " '.',\n",
       " '”']"
      ]
     },
     "execution_count": 40,
     "metadata": {},
     "output_type": "execute_result"
    }
   ],
   "source": [
    "filtered_li"
   ]
  },
  {
   "cell_type": "code",
   "execution_count": null,
   "id": "288df166",
   "metadata": {},
   "outputs": [],
   "source": [
    "# \n",
    "#\"Virat kohli is a cricketer who plays cricket well. And he played for many domestic teams all over the world. He is still playing for India\""
   ]
  },
  {
   "cell_type": "code",
   "execution_count": 41,
   "id": "0373ba09",
   "metadata": {},
   "outputs": [],
   "source": [
    "# stemming\n",
    "from nltk.stem import PorterStemmer\n",
    "from nltk.tokenize import word_tokenize\n"
   ]
  },
  {
   "cell_type": "code",
   "execution_count": 42,
   "id": "d8d34443",
   "metadata": {},
   "outputs": [],
   "source": [
    "stemmer  =  PorterStemmer()"
   ]
  },
  {
   "cell_type": "code",
   "execution_count": 43,
   "id": "e6bc5385",
   "metadata": {},
   "outputs": [],
   "source": [
    "stemmer_St  =\"Virat kohli is a cricketer who plays cricket well. And he played for many domestic teams all over the world. He is still playing for India\""
   ]
  },
  {
   "cell_type": "code",
   "execution_count": 44,
   "id": "31204f69",
   "metadata": {},
   "outputs": [
    {
     "data": {
      "text/plain": [
       "['Virat',\n",
       " 'kohli',\n",
       " 'is',\n",
       " 'a',\n",
       " 'cricketer',\n",
       " 'who',\n",
       " 'plays',\n",
       " 'cricket',\n",
       " 'well',\n",
       " '.',\n",
       " 'And',\n",
       " 'he',\n",
       " 'played',\n",
       " 'for',\n",
       " 'many',\n",
       " 'domestic',\n",
       " 'teams',\n",
       " 'all',\n",
       " 'over',\n",
       " 'the',\n",
       " 'world',\n",
       " '.',\n",
       " 'He',\n",
       " 'is',\n",
       " 'still',\n",
       " 'playing',\n",
       " 'for',\n",
       " 'India']"
      ]
     },
     "execution_count": 44,
     "metadata": {},
     "output_type": "execute_result"
    }
   ],
   "source": [
    "words  =  word_tokenize(stemmer_St)\n",
    "words"
   ]
  },
  {
   "cell_type": "code",
   "execution_count": 45,
   "id": "04aa4b83",
   "metadata": {},
   "outputs": [
    {
     "data": {
      "text/plain": [
       "['virat',\n",
       " 'kohli',\n",
       " 'is',\n",
       " 'a',\n",
       " 'cricket',\n",
       " 'who',\n",
       " 'play',\n",
       " 'cricket',\n",
       " 'well',\n",
       " '.',\n",
       " 'and',\n",
       " 'he',\n",
       " 'play',\n",
       " 'for',\n",
       " 'mani',\n",
       " 'domest',\n",
       " 'team',\n",
       " 'all',\n",
       " 'over',\n",
       " 'the',\n",
       " 'world',\n",
       " '.',\n",
       " 'he',\n",
       " 'is',\n",
       " 'still',\n",
       " 'play',\n",
       " 'for',\n",
       " 'india']"
      ]
     },
     "execution_count": 45,
     "metadata": {},
     "output_type": "execute_result"
    }
   ],
   "source": [
    "stemmer_words  = [stemmer.stem(word) for word in words ]\n",
    "stemmer_words"
   ]
  },
  {
   "cell_type": "code",
   "execution_count": null,
   "id": "ba4603db",
   "metadata": {},
   "outputs": [],
   "source": [
    "# PoS tagging \n",
    "# Parts of Speech Tagging\n",
    "\n"
   ]
  },
  {
   "cell_type": "code",
   "execution_count": 46,
   "id": "9dfb1fb4",
   "metadata": {},
   "outputs": [],
   "source": [
    "from nltk.tokenize import word_tokenize"
   ]
  },
  {
   "cell_type": "code",
   "execution_count": 47,
   "id": "ab0aa910",
   "metadata": {},
   "outputs": [],
   "source": [
    "sent  = \"To Clotilde Lothman von Saxe-Meningen, second daughter of the King of Scandinavia. You may know the strict principles of her family. She is herself the very soul of delicacy. A shadow of a doubt as to my conduct would bring the matter to an end.\""
   ]
  },
  {
   "cell_type": "code",
   "execution_count": 48,
   "id": "c92257ff",
   "metadata": {},
   "outputs": [],
   "source": [
    "words = word_tokenize(sent)"
   ]
  },
  {
   "cell_type": "code",
   "execution_count": 49,
   "id": "7801cda8",
   "metadata": {},
   "outputs": [
    {
     "data": {
      "text/plain": [
       "['To',\n",
       " 'Clotilde',\n",
       " 'Lothman',\n",
       " 'von',\n",
       " 'Saxe-Meningen',\n",
       " ',',\n",
       " 'second',\n",
       " 'daughter',\n",
       " 'of',\n",
       " 'the',\n",
       " 'King',\n",
       " 'of',\n",
       " 'Scandinavia',\n",
       " '.',\n",
       " 'You',\n",
       " 'may',\n",
       " 'know',\n",
       " 'the',\n",
       " 'strict',\n",
       " 'principles',\n",
       " 'of',\n",
       " 'her',\n",
       " 'family',\n",
       " '.',\n",
       " 'She',\n",
       " 'is',\n",
       " 'herself',\n",
       " 'the',\n",
       " 'very',\n",
       " 'soul',\n",
       " 'of',\n",
       " 'delicacy',\n",
       " '.',\n",
       " 'A',\n",
       " 'shadow',\n",
       " 'of',\n",
       " 'a',\n",
       " 'doubt',\n",
       " 'as',\n",
       " 'to',\n",
       " 'my',\n",
       " 'conduct',\n",
       " 'would',\n",
       " 'bring',\n",
       " 'the',\n",
       " 'matter',\n",
       " 'to',\n",
       " 'an',\n",
       " 'end',\n",
       " '.']"
      ]
     },
     "execution_count": 49,
     "metadata": {},
     "output_type": "execute_result"
    }
   ],
   "source": [
    "words"
   ]
  },
  {
   "cell_type": "code",
   "execution_count": 51,
   "id": "5f231282",
   "metadata": {},
   "outputs": [
    {
     "name": "stderr",
     "output_type": "stream",
     "text": [
      "[nltk_data] Downloading package averaged_perceptron_tagger to\n",
      "[nltk_data]     C:\\Users\\Digital\n",
      "[nltk_data]     Suppliers\\AppData\\Roaming\\nltk_data...\n",
      "[nltk_data]   Unzipping taggers\\averaged_perceptron_tagger.zip.\n"
     ]
    },
    {
     "data": {
      "text/plain": [
       "True"
      ]
     },
     "execution_count": 51,
     "metadata": {},
     "output_type": "execute_result"
    }
   ],
   "source": [
    "import nltk\n",
    "nltk.download('averaged_perceptron_tagger')\n"
   ]
  },
  {
   "cell_type": "code",
   "execution_count": 52,
   "id": "a0962395",
   "metadata": {},
   "outputs": [
    {
     "data": {
      "text/plain": [
       "[('To', 'TO'),\n",
       " ('Clotilde', 'NNP'),\n",
       " ('Lothman', 'NNP'),\n",
       " ('von', 'NNP'),\n",
       " ('Saxe-Meningen', 'NNP'),\n",
       " (',', ','),\n",
       " ('second', 'JJ'),\n",
       " ('daughter', 'NN'),\n",
       " ('of', 'IN'),\n",
       " ('the', 'DT'),\n",
       " ('King', 'NNP'),\n",
       " ('of', 'IN'),\n",
       " ('Scandinavia', 'NNP'),\n",
       " ('.', '.'),\n",
       " ('You', 'PRP'),\n",
       " ('may', 'MD'),\n",
       " ('know', 'VB'),\n",
       " ('the', 'DT'),\n",
       " ('strict', 'JJ'),\n",
       " ('principles', 'NNS'),\n",
       " ('of', 'IN'),\n",
       " ('her', 'PRP$'),\n",
       " ('family', 'NN'),\n",
       " ('.', '.'),\n",
       " ('She', 'PRP'),\n",
       " ('is', 'VBZ'),\n",
       " ('herself', 'PRP'),\n",
       " ('the', 'DT'),\n",
       " ('very', 'RB'),\n",
       " ('soul', 'NN'),\n",
       " ('of', 'IN'),\n",
       " ('delicacy', 'NN'),\n",
       " ('.', '.'),\n",
       " ('A', 'DT'),\n",
       " ('shadow', 'NN'),\n",
       " ('of', 'IN'),\n",
       " ('a', 'DT'),\n",
       " ('doubt', 'NN'),\n",
       " ('as', 'IN'),\n",
       " ('to', 'TO'),\n",
       " ('my', 'PRP$'),\n",
       " ('conduct', 'NN'),\n",
       " ('would', 'MD'),\n",
       " ('bring', 'VB'),\n",
       " ('the', 'DT'),\n",
       " ('matter', 'NN'),\n",
       " ('to', 'TO'),\n",
       " ('an', 'DT'),\n",
       " ('end', 'NN'),\n",
       " ('.', '.')]"
      ]
     },
     "execution_count": 52,
     "metadata": {},
     "output_type": "execute_result"
    }
   ],
   "source": [
    "nltk.pos_tag(words)"
   ]
  },
  {
   "cell_type": "code",
   "execution_count": null,
   "id": "05106dd2",
   "metadata": {},
   "outputs": [],
   "source": [
    "# hope you remembered stemming \n",
    "\n",
    "# Lemmatizing\n",
    "\n",
    "#good better best worst\n",
    " # tallest  , stemming , can give you talle \n",
    " # tall, by lemmatizing\n",
    "\n",
    "# lexeme, "
   ]
  },
  {
   "cell_type": "code",
   "execution_count": 56,
   "id": "ed4aa80c",
   "metadata": {},
   "outputs": [
    {
     "name": "stderr",
     "output_type": "stream",
     "text": [
      "[nltk_data] Downloading package wordnet to C:\\Users\\Digital\n",
      "[nltk_data]     Suppliers\\AppData\\Roaming\\nltk_data...\n",
      "[nltk_data]   Unzipping corpora\\wordnet.zip.\n"
     ]
    },
    {
     "data": {
      "text/plain": [
       "True"
      ]
     },
     "execution_count": 56,
     "metadata": {},
     "output_type": "execute_result"
    }
   ],
   "source": [
    "nltk.download('wordnet')"
   ]
  },
  {
   "cell_type": "code",
   "execution_count": 60,
   "id": "99767a36",
   "metadata": {},
   "outputs": [
    {
     "name": "stderr",
     "output_type": "stream",
     "text": [
      "[nltk_data] Downloading package omw-1.4 to C:\\Users\\Digital\n",
      "[nltk_data]     Suppliers\\AppData\\Roaming\\nltk_data...\n",
      "[nltk_data]   Unzipping corpora\\omw-1.4.zip.\n"
     ]
    },
    {
     "data": {
      "text/plain": [
       "True"
      ]
     },
     "execution_count": 60,
     "metadata": {},
     "output_type": "execute_result"
    }
   ],
   "source": [
    "import nltk\n",
    "nltk.download('omw-1.4')"
   ]
  },
  {
   "cell_type": "code",
   "execution_count": 61,
   "id": "bfa3a5d1",
   "metadata": {},
   "outputs": [],
   "source": [
    "from nltk.stem import WordNetLemmatizer"
   ]
  },
  {
   "cell_type": "code",
   "execution_count": 62,
   "id": "5170e25f",
   "metadata": {},
   "outputs": [],
   "source": [
    "lemmatizer  =  WordNetLemmatizer()"
   ]
  },
  {
   "cell_type": "code",
   "execution_count": 66,
   "id": "fee9eae4",
   "metadata": {},
   "outputs": [
    {
     "data": {
      "text/plain": [
       "'scarf'"
      ]
     },
     "execution_count": 66,
     "metadata": {},
     "output_type": "execute_result"
    }
   ],
   "source": [
    "lemmatizer.lemmatize(\"scarves\")  # scarv"
   ]
  },
  {
   "cell_type": "code",
   "execution_count": 67,
   "id": "155ac0a7",
   "metadata": {},
   "outputs": [],
   "source": [
    "sentence  = \"we have lot of scarves in our room\""
   ]
  },
  {
   "cell_type": "code",
   "execution_count": 68,
   "id": "4258c0c7",
   "metadata": {},
   "outputs": [
    {
     "data": {
      "text/plain": [
       "['we', 'have', 'lot', 'of', 'scarves', 'in', 'our', 'room']"
      ]
     },
     "execution_count": 68,
     "metadata": {},
     "output_type": "execute_result"
    }
   ],
   "source": [
    "words  = word_tokenize(sentence)\n",
    "words"
   ]
  },
  {
   "cell_type": "code",
   "execution_count": 69,
   "id": "92b27b5f",
   "metadata": {},
   "outputs": [
    {
     "data": {
      "text/plain": [
       "['we', 'have', 'lot', 'of', 'scarf', 'in', 'our', 'room']"
      ]
     },
     "execution_count": 69,
     "metadata": {},
     "output_type": "execute_result"
    }
   ],
   "source": [
    "lemmatize  = [lemmatizer.lemmatize(word) for word in words]\n",
    "lemmatize"
   ]
  },
  {
   "cell_type": "code",
   "execution_count": 70,
   "id": "bdfabed6",
   "metadata": {},
   "outputs": [
    {
     "data": {
      "text/plain": [
       "'worst'"
      ]
     },
     "execution_count": 70,
     "metadata": {},
     "output_type": "execute_result"
    }
   ],
   "source": [
    "lemmatizer.lemmatize(\"worst\")"
   ]
  },
  {
   "cell_type": "code",
   "execution_count": 71,
   "id": "5f971251",
   "metadata": {},
   "outputs": [
    {
     "data": {
      "text/plain": [
       "'bad'"
      ]
     },
     "execution_count": 71,
     "metadata": {},
     "output_type": "execute_result"
    }
   ],
   "source": [
    "lemmatizer.lemmatize(\"worst\", pos=\"a\")"
   ]
  },
  {
   "cell_type": "code",
   "execution_count": 72,
   "id": "eec28b0f",
   "metadata": {},
   "outputs": [
    {
     "data": {
      "text/plain": [
       "'tall'"
      ]
     },
     "execution_count": 72,
     "metadata": {},
     "output_type": "execute_result"
    }
   ],
   "source": [
    "lemmatizer.lemmatize(\"tallest\")"
   ]
  },
  {
   "cell_type": "code",
   "execution_count": null,
   "id": "3f859133",
   "metadata": {},
   "outputs": [],
   "source": []
  }
 ],
 "metadata": {
  "kernelspec": {
   "display_name": "Python 3 (ipykernel)",
   "language": "python",
   "name": "python3"
  },
  "language_info": {
   "codemirror_mode": {
    "name": "ipython",
    "version": 3
   },
   "file_extension": ".py",
   "mimetype": "text/x-python",
   "name": "python",
   "nbconvert_exporter": "python",
   "pygments_lexer": "ipython3",
   "version": "3.10.1"
  }
 },
 "nbformat": 4,
 "nbformat_minor": 5
}
