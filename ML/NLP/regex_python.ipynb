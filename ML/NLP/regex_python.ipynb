{
 "cells": [
  {
   "cell_type": "code",
   "execution_count": 1,
   "id": "d32aa423",
   "metadata": {},
   "outputs": [],
   "source": [
    "import re"
   ]
  },
  {
   "cell_type": "code",
   "execution_count": 2,
   "id": "2c071aa2",
   "metadata": {},
   "outputs": [],
   "source": [
    "info1  = 'Long. Passwords must contain at least ten characters, but students (234)-5323-528 can use up to 9983452342.'\n",
    "\n"
   ]
  },
  {
   "cell_type": "code",
   "execution_count": 13,
   "id": "4986d05f",
   "metadata": {},
   "outputs": [],
   "source": [
    "info2  = 'Varied. Students must ram@gmail.com use at least five unique characters.'\n",
    "\n"
   ]
  },
  {
   "cell_type": "code",
   "execution_count": 14,
   "id": "d4748054",
   "metadata": {},
   "outputs": [],
   "source": [
    "info3 = 'Alphanumeric. Writers must abC45@zoho.com include uppercase letters, lowercase versions, and special characters.'"
   ]
  },
  {
   "cell_type": "code",
   "execution_count": 8,
   "id": "f0d12043",
   "metadata": {},
   "outputs": [],
   "source": [
    "pattern  =  '\\d{10}'"
   ]
  },
  {
   "cell_type": "code",
   "execution_count": 9,
   "id": "47690183",
   "metadata": {},
   "outputs": [
    {
     "data": {
      "text/plain": [
       "['9983452342']"
      ]
     },
     "execution_count": 9,
     "metadata": {},
     "output_type": "execute_result"
    }
   ],
   "source": [
    "p_match = re.findall(pattern, info1)\n",
    "\n",
    "p_match"
   ]
  },
  {
   "cell_type": "code",
   "execution_count": 10,
   "id": "4579028c",
   "metadata": {},
   "outputs": [
    {
     "data": {
      "text/plain": [
       "[]"
      ]
     },
     "execution_count": 10,
     "metadata": {},
     "output_type": "execute_result"
    }
   ],
   "source": [
    "p_match = re.findall(pattern, info2)\n",
    "\n",
    "p_match"
   ]
  },
  {
   "cell_type": "code",
   "execution_count": null,
   "id": "504f8c4d",
   "metadata": {},
   "outputs": [],
   "source": [
    " #  pattern '\\(\\d{3}\\)-\\d{4}-\\d{3}'"
   ]
  },
  {
   "cell_type": "code",
   "execution_count": 11,
   "id": "6909fd74",
   "metadata": {},
   "outputs": [],
   "source": [
    "pattern  = '[a-z0-9A-Z]*@*[a-z0-9A-Z]*\\.com'"
   ]
  },
  {
   "cell_type": "code",
   "execution_count": 12,
   "id": "1cc451f1",
   "metadata": {},
   "outputs": [
    {
     "data": {
      "text/plain": [
       "[]"
      ]
     },
     "execution_count": 12,
     "metadata": {},
     "output_type": "execute_result"
    }
   ],
   "source": [
    "p_match = re.findall(pattern, info1)\n",
    "\n",
    "p_match"
   ]
  },
  {
   "cell_type": "code",
   "execution_count": 15,
   "id": "e3770c2a",
   "metadata": {},
   "outputs": [
    {
     "data": {
      "text/plain": [
       "['ram@gmail.com']"
      ]
     },
     "execution_count": 15,
     "metadata": {},
     "output_type": "execute_result"
    }
   ],
   "source": [
    "p_match = re.findall(pattern, info2)\n",
    "\n",
    "p_match"
   ]
  },
  {
   "cell_type": "code",
   "execution_count": 16,
   "id": "87d17502",
   "metadata": {},
   "outputs": [
    {
     "data": {
      "text/plain": [
       "['abC45@zoho.com']"
      ]
     },
     "execution_count": 16,
     "metadata": {},
     "output_type": "execute_result"
    }
   ],
   "source": [
    "p_match = re.findall(pattern, info3)\n",
    "\n",
    "p_match"
   ]
  },
  {
   "cell_type": "code",
   "execution_count": null,
   "id": "34d89672",
   "metadata": {},
   "outputs": [],
   "source": []
  },
  {
   "cell_type": "code",
   "execution_count": null,
   "id": "ffb60745",
   "metadata": {},
   "outputs": [],
   "source": []
  },
  {
   "cell_type": "code",
   "execution_count": null,
   "id": "a2a85da2",
   "metadata": {},
   "outputs": [],
   "source": []
  },
  {
   "cell_type": "code",
   "execution_count": null,
   "id": "d1816bd8",
   "metadata": {},
   "outputs": [],
   "source": []
  }
 ],
 "metadata": {
  "kernelspec": {
   "display_name": "Python 3 (ipykernel)",
   "language": "python",
   "name": "python3"
  },
  "language_info": {
   "codemirror_mode": {
    "name": "ipython",
    "version": 3
   },
   "file_extension": ".py",
   "mimetype": "text/x-python",
   "name": "python",
   "nbconvert_exporter": "python",
   "pygments_lexer": "ipython3",
   "version": "3.10.1"
  }
 },
 "nbformat": 4,
 "nbformat_minor": 5
}
