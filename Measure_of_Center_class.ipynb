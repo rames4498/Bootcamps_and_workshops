{
 "cells": [
  {
   "cell_type": "markdown",
   "metadata": {
    "id": "gmHVVuCdiHnl"
   },
   "source": [
    "# Measure of Center\n",
    "\n",
    "---\n",
    "\n"
   ]
  },
  {
   "cell_type": "code",
   "execution_count": null,
   "metadata": {
    "id": "Cs6hAcU2h5NT"
   },
   "outputs": [],
   "source": [
    "import numpy as np\n",
    "x=[2,4,6,7,20,10,22]\n",
    "y=np.array(x)"
   ]
  },
  {
   "cell_type": "markdown",
   "metadata": {
    "id": "v0B8j5IsiDL7"
   },
   "source": [
    "# Mean:\n",
    "\n",
    "---\n",
    "\n"
   ]
  },
  {
   "cell_type": "code",
   "execution_count": null,
   "metadata": {
    "colab": {
     "base_uri": "https://localhost:8080/",
     "height": 34
    },
    "id": "oYOWjwMviCLm",
    "outputId": "1a7c27be-63e3-4423-cfad-da76e679bf10"
   },
   "outputs": [
    {
     "name": "stdout",
     "output_type": "stream",
     "text": [
      "Mean is :  10.142857142857142\n"
     ]
    }
   ],
   "source": [
    "print(\"Mean is : \",y.mean())"
   ]
  },
  {
   "cell_type": "markdown",
   "metadata": {
    "id": "0IpYCciHiQKX"
   },
   "source": [
    "# Median:\n",
    "\n",
    "---\n",
    "\n"
   ]
  },
  {
   "cell_type": "code",
   "execution_count": null,
   "metadata": {
    "colab": {
     "base_uri": "https://localhost:8080/",
     "height": 34
    },
    "id": "ZRjbvMUoiM9U",
    "outputId": "4ee89fc5-f940-4595-afd3-d95b90ac2663"
   },
   "outputs": [
    {
     "name": "stdout",
     "output_type": "stream",
     "text": [
      "Median is :  7.0\n"
     ]
    }
   ],
   "source": [
    "print(\"Median is : \",np.median(y))"
   ]
  },
  {
   "cell_type": "markdown",
   "metadata": {
    "id": "Q3hBUZmEiYCh"
   },
   "source": [
    "# Mode:\n",
    "\n",
    "---\n"
   ]
  },
  {
   "cell_type": "code",
   "execution_count": null,
   "metadata": {
    "colab": {
     "base_uri": "https://localhost:8080/",
     "height": 34
    },
    "id": "k-wIC7j_iPdR",
    "outputId": "1cb99ae2-a249-4b9a-ab13-f344cd7dc583"
   },
   "outputs": [
    {
     "name": "stdout",
     "output_type": "stream",
     "text": [
      "Mode is: 3\n"
     ]
    }
   ],
   "source": [
    "from statistics import mode\n",
    "print(\"Mode is:\",mode([1, 1, 2, 3, 3, 3, 3, 4]))"
   ]
  }
 ],
 "metadata": {
  "colab": {
   "name": "Measure_of_Center.ipynb",
   "provenance": []
  },
  "kernelspec": {
   "display_name": "Python 3 (ipykernel)",
   "language": "python",
   "name": "python3"
  },
  "language_info": {
   "codemirror_mode": {
    "name": "ipython",
    "version": 3
   },
   "file_extension": ".py",
   "mimetype": "text/x-python",
   "name": "python",
   "nbconvert_exporter": "python",
   "pygments_lexer": "ipython3",
   "version": "3.10.6"
  }
 },
 "nbformat": 4,
 "nbformat_minor": 1
}
